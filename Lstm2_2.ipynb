{
  "nbformat": 4,
  "nbformat_minor": 0,
  "metadata": {
    "colab": {
      "provenance": [],
      "collapsed_sections": [
        "pvxs2oePwu3b"
      ]
    },
    "kernelspec": {
      "name": "python3",
      "display_name": "Python 3"
    },
    "language_info": {
      "name": "python"
    },
    "accelerator": "GPU",
    "gpuClass": "standard"
  },
  "cells": [
    {
      "cell_type": "markdown",
      "source": [
        "## LSTM과 GRU 셀"
      ],
      "metadata": {
        "id": "-0eLGFOMqf9Q"
      }
    },
    {
      "cell_type": "markdown",
      "source": [
        "\n",
        "셀상태는 은닉상태와 다르게 다음 층으로 넘어가지 않고 LSTM 안에서만 순환한다.  \n",
        "LSTM에는 삭제 게이트, 입력 게이트, 출력 게이트가 있다."
      ],
      "metadata": {
        "id": "ZNPNaNcxsD02"
      }
    },
    {
      "cell_type": "markdown",
      "source": [
        "LSTM 신경망 훈련하기"
      ],
      "metadata": {
        "id": "BEePWa9pqpGo"
      }
    },
    {
      "cell_type": "code",
      "source": [
        "from tensorflow.keras.datasets import imdb\n",
        "from sklearn.model_selection import train_test_split\n",
        "(train_input, train_target), (test_input, test_target) = imdb.load_data(num_words=500)\n",
        "train_input, val_input, train_target, val_target = train_test_split(train_input, train_target, test_size=0.2, random_state=42)"
      ],
      "metadata": {
        "colab": {
          "base_uri": "https://localhost:8080/"
        },
        "id": "cGdPmqsfqnzL",
        "outputId": "a13e7381-2442-4c09-f773-7fec6a178cc1"
      },
      "execution_count": null,
      "outputs": [
        {
          "output_type": "stream",
          "name": "stdout",
          "text": [
            "Downloading data from https://storage.googleapis.com/tensorflow/tf-keras-datasets/imdb.npz\n",
            "17464789/17464789 [==============================] - 0s 0us/step\n"
          ]
        }
      ]
    },
    {
      "cell_type": "code",
      "source": [
        "from tensorflow.keras.preprocessing.sequence import pad_sequences\n",
        "train_seq = pad_sequences(train_input, maxlen=100)\n",
        "val_seq = pad_sequences(val_input, maxlen=100)"
      ],
      "metadata": {
        "id": "XdHu95IRtcqT"
      },
      "execution_count": null,
      "outputs": []
    },
    {
      "cell_type": "code",
      "execution_count": null,
      "metadata": {
        "id": "BtjxMhRRpvoi"
      },
      "outputs": [],
      "source": [
        "from tensorflow import keras\n",
        "model = keras.Sequential()\n",
        "model.add(keras.layers.Embedding(500, 16, input_length=100))\n",
        "model.add(keras.layers.LSTM(8))\n",
        "model.add(keras.layers.Dense(1, activation='sigmoid'))"
      ]
    },
    {
      "cell_type": "code",
      "source": [
        "model.summary()"
      ],
      "metadata": {
        "colab": {
          "base_uri": "https://localhost:8080/"
        },
        "id": "wnrpUM6euIMj",
        "outputId": "399ea1bb-dcc4-4c84-cc60-cd702c8b5122"
      },
      "execution_count": null,
      "outputs": [
        {
          "output_type": "stream",
          "name": "stdout",
          "text": [
            "Model: \"sequential\"\n",
            "_________________________________________________________________\n",
            " Layer (type)                Output Shape              Param #   \n",
            "=================================================================\n",
            " embedding (Embedding)       (None, 100, 16)           8000      \n",
            "                                                                 \n",
            " lstm (LSTM)                 (None, 8)                 800       \n",
            "                                                                 \n",
            " dense (Dense)               (None, 1)                 9         \n",
            "                                                                 \n",
            "=================================================================\n",
            "Total params: 8,809\n",
            "Trainable params: 8,809\n",
            "Non-trainable params: 0\n",
            "_________________________________________________________________\n"
          ]
        }
      ]
    },
    {
      "cell_type": "code",
      "source": [
        "rmsprop = keras.optimizers.RMSprop(learning_rate=1e-4)\n",
        "model.compile(optimizer=rmsprop, loss='binary_crossentropy', \n",
        "              metrics=['accuracy'])\n",
        "\n",
        "checkpoint_cb = keras.callbacks.ModelCheckpoint('best-lstm-model.h5', \n",
        "                                                save_best_only=True)\n",
        "early_stopping_cb = keras.callbacks.EarlyStopping(patience=3,\n",
        "                                                  restore_best_weights=True)\n",
        "\n",
        "history = model.fit(train_seq, train_target, epochs=100, batch_size=64,\n",
        "                    validation_data=(val_seq, val_target),\n",
        "                    callbacks=[checkpoint_cb, early_stopping_cb])"
      ],
      "metadata": {
        "colab": {
          "base_uri": "https://localhost:8080/"
        },
        "id": "TRP6FgGMuJuN",
        "outputId": "c76955df-c2a8-45dd-f047-4671d0bdca65"
      },
      "execution_count": null,
      "outputs": [
        {
          "output_type": "stream",
          "name": "stdout",
          "text": [
            "Epoch 1/100\n",
            "313/313 [==============================] - 9s 10ms/step - loss: 0.6923 - accuracy: 0.5342 - val_loss: 0.6910 - val_accuracy: 0.5804\n",
            "Epoch 2/100\n",
            "313/313 [==============================] - 3s 9ms/step - loss: 0.6891 - accuracy: 0.6130 - val_loss: 0.6861 - val_accuracy: 0.6432\n",
            "Epoch 3/100\n",
            "313/313 [==============================] - 3s 9ms/step - loss: 0.6729 - accuracy: 0.6525 - val_loss: 0.6499 - val_accuracy: 0.6638\n",
            "Epoch 4/100\n",
            "313/313 [==============================] - 3s 9ms/step - loss: 0.6194 - accuracy: 0.7038 - val_loss: 0.6063 - val_accuracy: 0.7152\n",
            "Epoch 5/100\n",
            "313/313 [==============================] - 3s 9ms/step - loss: 0.5874 - accuracy: 0.7290 - val_loss: 0.5816 - val_accuracy: 0.7316\n",
            "Epoch 6/100\n",
            "313/313 [==============================] - 5s 16ms/step - loss: 0.5627 - accuracy: 0.7472 - val_loss: 0.5600 - val_accuracy: 0.7398\n",
            "Epoch 7/100\n",
            "313/313 [==============================] - 4s 12ms/step - loss: 0.5415 - accuracy: 0.7593 - val_loss: 0.5392 - val_accuracy: 0.7540\n",
            "Epoch 8/100\n",
            "313/313 [==============================] - 4s 13ms/step - loss: 0.5225 - accuracy: 0.7698 - val_loss: 0.5200 - val_accuracy: 0.7662\n",
            "Epoch 9/100\n",
            "313/313 [==============================] - 3s 10ms/step - loss: 0.5049 - accuracy: 0.7772 - val_loss: 0.5065 - val_accuracy: 0.7658\n",
            "Epoch 10/100\n",
            "313/313 [==============================] - 5s 16ms/step - loss: 0.4902 - accuracy: 0.7836 - val_loss: 0.4925 - val_accuracy: 0.7778\n",
            "Epoch 11/100\n",
            "313/313 [==============================] - 5s 18ms/step - loss: 0.4772 - accuracy: 0.7907 - val_loss: 0.4802 - val_accuracy: 0.7876\n",
            "Epoch 12/100\n",
            "313/313 [==============================] - 5s 16ms/step - loss: 0.4665 - accuracy: 0.7957 - val_loss: 0.4711 - val_accuracy: 0.7870\n",
            "Epoch 13/100\n",
            "313/313 [==============================] - 4s 13ms/step - loss: 0.4573 - accuracy: 0.7975 - val_loss: 0.4639 - val_accuracy: 0.7934\n",
            "Epoch 14/100\n",
            "313/313 [==============================] - 4s 14ms/step - loss: 0.4498 - accuracy: 0.8037 - val_loss: 0.4581 - val_accuracy: 0.7934\n",
            "Epoch 15/100\n",
            "313/313 [==============================] - 4s 13ms/step - loss: 0.4432 - accuracy: 0.8051 - val_loss: 0.4533 - val_accuracy: 0.7968\n",
            "Epoch 16/100\n",
            "313/313 [==============================] - 5s 17ms/step - loss: 0.4381 - accuracy: 0.8059 - val_loss: 0.4503 - val_accuracy: 0.7958\n",
            "Epoch 17/100\n",
            "313/313 [==============================] - 4s 13ms/step - loss: 0.4335 - accuracy: 0.8087 - val_loss: 0.4472 - val_accuracy: 0.7988\n",
            "Epoch 18/100\n",
            "313/313 [==============================] - 4s 13ms/step - loss: 0.4302 - accuracy: 0.8086 - val_loss: 0.4429 - val_accuracy: 0.7980\n",
            "Epoch 19/100\n",
            "313/313 [==============================] - 5s 15ms/step - loss: 0.4267 - accuracy: 0.8105 - val_loss: 0.4409 - val_accuracy: 0.7998\n",
            "Epoch 20/100\n",
            "313/313 [==============================] - 4s 13ms/step - loss: 0.4238 - accuracy: 0.8116 - val_loss: 0.4480 - val_accuracy: 0.7912\n",
            "Epoch 21/100\n",
            "313/313 [==============================] - 5s 15ms/step - loss: 0.4215 - accuracy: 0.8102 - val_loss: 0.4420 - val_accuracy: 0.7968\n",
            "Epoch 22/100\n",
            "313/313 [==============================] - 3s 10ms/step - loss: 0.4194 - accuracy: 0.8117 - val_loss: 0.4388 - val_accuracy: 0.8020\n",
            "Epoch 23/100\n",
            "313/313 [==============================] - 3s 9ms/step - loss: 0.4173 - accuracy: 0.8127 - val_loss: 0.4383 - val_accuracy: 0.8026\n",
            "Epoch 24/100\n",
            "313/313 [==============================] - 3s 9ms/step - loss: 0.4157 - accuracy: 0.8137 - val_loss: 0.4371 - val_accuracy: 0.8034\n",
            "Epoch 25/100\n",
            "313/313 [==============================] - 3s 9ms/step - loss: 0.4147 - accuracy: 0.8125 - val_loss: 0.4375 - val_accuracy: 0.8034\n",
            "Epoch 26/100\n",
            "313/313 [==============================] - 3s 9ms/step - loss: 0.4138 - accuracy: 0.8138 - val_loss: 0.4340 - val_accuracy: 0.8026\n",
            "Epoch 27/100\n",
            "313/313 [==============================] - 3s 9ms/step - loss: 0.4121 - accuracy: 0.8145 - val_loss: 0.4317 - val_accuracy: 0.8008\n",
            "Epoch 28/100\n",
            "313/313 [==============================] - 4s 13ms/step - loss: 0.4107 - accuracy: 0.8162 - val_loss: 0.4314 - val_accuracy: 0.8060\n",
            "Epoch 29/100\n",
            "313/313 [==============================] - 4s 11ms/step - loss: 0.4102 - accuracy: 0.8145 - val_loss: 0.4310 - val_accuracy: 0.8036\n",
            "Epoch 30/100\n",
            "313/313 [==============================] - 4s 12ms/step - loss: 0.4090 - accuracy: 0.8155 - val_loss: 0.4303 - val_accuracy: 0.7998\n",
            "Epoch 31/100\n",
            "313/313 [==============================] - 3s 11ms/step - loss: 0.4081 - accuracy: 0.8156 - val_loss: 0.4307 - val_accuracy: 0.8072\n",
            "Epoch 32/100\n",
            "313/313 [==============================] - 3s 11ms/step - loss: 0.4070 - accuracy: 0.8156 - val_loss: 0.4292 - val_accuracy: 0.7990\n",
            "Epoch 33/100\n",
            "313/313 [==============================] - 3s 11ms/step - loss: 0.4063 - accuracy: 0.8169 - val_loss: 0.4290 - val_accuracy: 0.8054\n",
            "Epoch 34/100\n",
            "313/313 [==============================] - 3s 9ms/step - loss: 0.4059 - accuracy: 0.8159 - val_loss: 0.4281 - val_accuracy: 0.8082\n",
            "Epoch 35/100\n",
            "313/313 [==============================] - 3s 9ms/step - loss: 0.4050 - accuracy: 0.8166 - val_loss: 0.4295 - val_accuracy: 0.8008\n",
            "Epoch 36/100\n",
            "313/313 [==============================] - 3s 9ms/step - loss: 0.4042 - accuracy: 0.8174 - val_loss: 0.4293 - val_accuracy: 0.7998\n",
            "Epoch 37/100\n",
            "313/313 [==============================] - 3s 9ms/step - loss: 0.4031 - accuracy: 0.8177 - val_loss: 0.4344 - val_accuracy: 0.8054\n"
          ]
        }
      ]
    },
    {
      "cell_type": "code",
      "source": [
        "import matplotlib.pyplot as plt\n",
        "plt.plot(history.history['loss'])\n",
        "plt.plot(history.history['val_loss'])\n",
        "plt.xlabel('epoch')\n",
        "plt.ylabel('loss')\n",
        "plt.legend(['train', 'val'])\n",
        "plt.show()"
      ],
      "metadata": {
        "colab": {
          "base_uri": "https://localhost:8080/",
          "height": 279
        },
        "id": "PXBQ9FGvvMxg",
        "outputId": "439329a3-8567-4693-a240-9ed616b29378"
      },
      "execution_count": null,
      "outputs": [
        {
          "output_type": "display_data",
          "data": {
            "text/plain": [
              "<Figure size 432x288 with 1 Axes>"
            ],
            "image/png": "[encoded data removed]"
          },
          "metadata": {
            "needs_background": "light"
          }
        }
      ]
    },
    {
      "cell_type": "markdown",
      "source": [
        "### 과대적합을 막기위해 순환층에 드롭아웃 적용하기  \n",
        "드롭아웃: 은닉층에 있는 뉴런의 출력을 '랜덤'하게 꺼서 과대적합을 막고 오히려 좋은 학습을 시키는 방법  \n",
        "LSTM 클래스와 SimpleRNN 클래스는 자체적으로 드롭아웃 기능을 제공하는데  \n",
        "dropout 매개변수는 셀의 입력에 드롭아웃을 적용하고  \n",
        "recurrent_dropout은 순환되는 은닉 상태에 드롭아웃을 적용한다.(GPU사용불가)"
      ],
      "metadata": {
        "id": "pvxs2oePwu3b"
      }
    },
    {
      "cell_type": "code",
      "source": [
        "model2 = keras.Sequential()\n",
        "model2.add(keras.layers.Embedding(500, 16, input_length=100))\n",
        "model2.add(keras.layers.LSTM(8, dropout=0.3))\n",
        "model2.add(keras.layers.Dense(1, activation='sigmoid'))"
      ],
      "metadata": {
        "id": "_QqE_eucwpHY"
      },
      "execution_count": null,
      "outputs": []
    },
    {
      "cell_type": "code",
      "source": [
        "rmsprop = keras.optimizers.RMSprop(learning_rate=1e-4)\n",
        "model2.compile(optimizer=rmsprop, loss='binary_crossentropy', metrics=['accuracy'])\n",
        "checkpoint_cb = keras.callbacks.ModelCheckpoint('best-dropout-model.h5', save_best_only=True)\n",
        "early_stopping_cb = keras.callbacks.EarlyStopping(patience=3, restore_best_weights=True)\n",
        "history = model2.fit(train_seq, train_target, epochs=100, batch_size=64, validation_data=(val_seq, val_target), callbacks=[checkpoint_cb, early_stopping_cb])"
      ],
      "metadata": {
        "colab": {
          "base_uri": "https://localhost:8080/"
        },
        "id": "q77xBpEfyUFY",
        "outputId": "c435dc4e-1359-4991-c4f5-5be40ed3d453"
      },
      "execution_count": null,
      "outputs": [
        {
          "output_type": "stream",
          "name": "stdout",
          "text": [
            "Epoch 1/100\n",
            "313/313 [==============================] - 5s 10ms/step - loss: 0.6926 - accuracy: 0.5179 - val_loss: 0.6917 - val_accuracy: 0.5544\n",
            "Epoch 2/100\n",
            "313/313 [==============================] - 3s 9ms/step - loss: 0.6905 - accuracy: 0.5780 - val_loss: 0.6889 - val_accuracy: 0.6146\n",
            "Epoch 3/100\n",
            "313/313 [==============================] - 3s 9ms/step - loss: 0.6842 - accuracy: 0.6283 - val_loss: 0.6772 - val_accuracy: 0.5712\n",
            "Epoch 4/100\n",
            "313/313 [==============================] - 5s 17ms/step - loss: 0.6477 - accuracy: 0.6578 - val_loss: 0.6249 - val_accuracy: 0.7244\n",
            "Epoch 5/100\n",
            "313/313 [==============================] - 5s 17ms/step - loss: 0.6089 - accuracy: 0.7252 - val_loss: 0.5990 - val_accuracy: 0.7406\n",
            "Epoch 6/100\n",
            "313/313 [==============================] - 5s 15ms/step - loss: 0.5865 - accuracy: 0.7469 - val_loss: 0.5794 - val_accuracy: 0.7578\n",
            "Epoch 7/100\n",
            "313/313 [==============================] - 5s 18ms/step - loss: 0.5685 - accuracy: 0.7570 - val_loss: 0.5621 - val_accuracy: 0.7636\n",
            "Epoch 8/100\n",
            "313/313 [==============================] - 4s 13ms/step - loss: 0.5537 - accuracy: 0.7624 - val_loss: 0.5482 - val_accuracy: 0.7658\n",
            "Epoch 9/100\n",
            "313/313 [==============================] - 4s 13ms/step - loss: 0.5398 - accuracy: 0.7681 - val_loss: 0.5337 - val_accuracy: 0.7732\n",
            "Epoch 10/100\n",
            "313/313 [==============================] - 4s 14ms/step - loss: 0.5261 - accuracy: 0.7748 - val_loss: 0.5202 - val_accuracy: 0.7782\n",
            "Epoch 11/100\n",
            "313/313 [==============================] - 4s 12ms/step - loss: 0.5133 - accuracy: 0.7759 - val_loss: 0.5103 - val_accuracy: 0.7758\n",
            "Epoch 12/100\n",
            "313/313 [==============================] - 4s 14ms/step - loss: 0.5001 - accuracy: 0.7804 - val_loss: 0.4966 - val_accuracy: 0.7872\n",
            "Epoch 13/100\n",
            "313/313 [==============================] - 4s 13ms/step - loss: 0.4894 - accuracy: 0.7836 - val_loss: 0.4859 - val_accuracy: 0.7862\n",
            "Epoch 14/100\n",
            "313/313 [==============================] - 4s 14ms/step - loss: 0.4804 - accuracy: 0.7872 - val_loss: 0.4807 - val_accuracy: 0.7802\n",
            "Epoch 15/100\n",
            "313/313 [==============================] - 3s 9ms/step - loss: 0.4726 - accuracy: 0.7885 - val_loss: 0.4702 - val_accuracy: 0.7886\n",
            "Epoch 16/100\n",
            "313/313 [==============================] - 3s 9ms/step - loss: 0.4661 - accuracy: 0.7937 - val_loss: 0.4649 - val_accuracy: 0.7904\n",
            "Epoch 17/100\n",
            "313/313 [==============================] - 3s 9ms/step - loss: 0.4589 - accuracy: 0.7950 - val_loss: 0.4623 - val_accuracy: 0.7882\n",
            "Epoch 18/100\n",
            "313/313 [==============================] - 3s 9ms/step - loss: 0.4530 - accuracy: 0.7973 - val_loss: 0.4560 - val_accuracy: 0.7890\n",
            "Epoch 19/100\n",
            "313/313 [==============================] - 3s 9ms/step - loss: 0.4495 - accuracy: 0.7984 - val_loss: 0.4533 - val_accuracy: 0.7892\n",
            "Epoch 20/100\n",
            "313/313 [==============================] - 3s 9ms/step - loss: 0.4457 - accuracy: 0.7990 - val_loss: 0.4520 - val_accuracy: 0.7946\n",
            "Epoch 21/100\n",
            "313/313 [==============================] - 3s 9ms/step - loss: 0.4425 - accuracy: 0.7998 - val_loss: 0.4460 - val_accuracy: 0.7942\n",
            "Epoch 22/100\n",
            "313/313 [==============================] - 3s 9ms/step - loss: 0.4396 - accuracy: 0.8016 - val_loss: 0.4441 - val_accuracy: 0.7954\n",
            "Epoch 23/100\n",
            "313/313 [==============================] - 3s 9ms/step - loss: 0.4380 - accuracy: 0.8036 - val_loss: 0.4445 - val_accuracy: 0.7892\n",
            "Epoch 24/100\n",
            "313/313 [==============================] - 3s 9ms/step - loss: 0.4333 - accuracy: 0.8054 - val_loss: 0.4447 - val_accuracy: 0.7896\n",
            "Epoch 25/100\n",
            "313/313 [==============================] - 3s 9ms/step - loss: 0.4326 - accuracy: 0.8055 - val_loss: 0.4378 - val_accuracy: 0.8018\n",
            "Epoch 26/100\n",
            "313/313 [==============================] - 3s 9ms/step - loss: 0.4290 - accuracy: 0.8073 - val_loss: 0.4368 - val_accuracy: 0.7970\n",
            "Epoch 27/100\n",
            "313/313 [==============================] - 3s 9ms/step - loss: 0.4286 - accuracy: 0.8055 - val_loss: 0.4353 - val_accuracy: 0.8006\n",
            "Epoch 28/100\n",
            "313/313 [==============================] - 3s 9ms/step - loss: 0.4264 - accuracy: 0.8073 - val_loss: 0.4371 - val_accuracy: 0.7952\n",
            "Epoch 29/100\n",
            "313/313 [==============================] - 3s 9ms/step - loss: 0.4272 - accuracy: 0.8059 - val_loss: 0.4345 - val_accuracy: 0.7986\n",
            "Epoch 30/100\n",
            "313/313 [==============================] - 3s 9ms/step - loss: 0.4238 - accuracy: 0.8080 - val_loss: 0.4334 - val_accuracy: 0.7986\n",
            "Epoch 31/100\n",
            "313/313 [==============================] - 3s 9ms/step - loss: 0.4239 - accuracy: 0.8079 - val_loss: 0.4325 - val_accuracy: 0.8026\n",
            "Epoch 32/100\n",
            "313/313 [==============================] - 3s 9ms/step - loss: 0.4215 - accuracy: 0.8090 - val_loss: 0.4318 - val_accuracy: 0.8032\n",
            "Epoch 33/100\n",
            "313/313 [==============================] - 3s 9ms/step - loss: 0.4204 - accuracy: 0.8097 - val_loss: 0.4338 - val_accuracy: 0.7978\n",
            "Epoch 34/100\n",
            "313/313 [==============================] - 3s 9ms/step - loss: 0.4188 - accuracy: 0.8130 - val_loss: 0.4308 - val_accuracy: 0.8026\n",
            "Epoch 35/100\n",
            "313/313 [==============================] - 3s 9ms/step - loss: 0.4175 - accuracy: 0.8125 - val_loss: 0.4303 - val_accuracy: 0.8046\n",
            "Epoch 36/100\n",
            "313/313 [==============================] - 3s 9ms/step - loss: 0.4183 - accuracy: 0.8109 - val_loss: 0.4321 - val_accuracy: 0.7998\n",
            "Epoch 37/100\n",
            "313/313 [==============================] - 3s 9ms/step - loss: 0.4163 - accuracy: 0.8106 - val_loss: 0.4297 - val_accuracy: 0.8020\n",
            "Epoch 38/100\n",
            "313/313 [==============================] - 3s 9ms/step - loss: 0.4160 - accuracy: 0.8117 - val_loss: 0.4302 - val_accuracy: 0.8008\n",
            "Epoch 39/100\n",
            "313/313 [==============================] - 3s 9ms/step - loss: 0.4162 - accuracy: 0.8121 - val_loss: 0.4328 - val_accuracy: 0.8042\n",
            "Epoch 40/100\n",
            "313/313 [==============================] - 3s 9ms/step - loss: 0.4153 - accuracy: 0.8106 - val_loss: 0.4317 - val_accuracy: 0.7982\n"
          ]
        }
      ]
    },
    {
      "cell_type": "code",
      "source": [
        "plt.plot(history.history['loss'])\n",
        "plt.plot(history.history['val_loss'])\n",
        "plt.xlabel('epoch')\n",
        "plt.ylabel('loss')\n",
        "plt.legend(['train', 'val'])\n",
        "plt.show()"
      ],
      "metadata": {
        "colab": {
          "base_uri": "https://localhost:8080/",
          "height": 279
        },
        "id": "Um1Cd8aozF_9",
        "outputId": "fb9f5214-5dd4-40d8-a9d1-842a153b4394"
      },
      "execution_count": null,
      "outputs": [
        {
          "output_type": "display_data",
          "data": {
            "text/plain": [
              "<Figure size 432x288 with 1 Axes>"
            ],
            "image/png": "[encoded data removed]"
          },
          "metadata": {
            "needs_background": "light"
          }
        }
      ]
    },
    {
      "cell_type": "markdown",
      "source": [
        "## 순환층 2개 연결하기  \n",
        "keras에서는 마지막 셀을 제외한 층에서 모든 타임스텝의 은닉상태를 출력하려면 return_sequences = True를 설정해주면 된다."
      ],
      "metadata": {
        "id": "d2voWTpGz5L5"
      }
    },
    {
      "cell_type": "code",
      "source": [
        "model3 =keras.Sequential()\n",
        "model3.add(keras.layers.Embedding(500, 16, input_length=100))\n",
        "model3.add(keras.layers.LSTM(8, dropout=0.3, return_sequences=True))\n",
        "model3.add(keras.layers.LSTM(8, dropout=0.3))\n",
        "model3.add(keras.layers.Dense(1, activation='sigmoid'))"
      ],
      "metadata": {
        "id": "uAYayOnVzUmS"
      },
      "execution_count": null,
      "outputs": []
    },
    {
      "cell_type": "code",
      "source": [
        "model3.summary()"
      ],
      "metadata": {
        "colab": {
          "base_uri": "https://localhost:8080/"
        },
        "id": "369ox24u0lL4",
        "outputId": "a984f84a-c9d5-491f-f76f-fe0e8ad1b409"
      },
      "execution_count": null,
      "outputs": [
        {
          "output_type": "stream",
          "name": "stdout",
          "text": [
            "Model: \"sequential_5\"\n",
            "_________________________________________________________________\n",
            " Layer (type)                Output Shape              Param #   \n",
            "=================================================================\n",
            " embedding_4 (Embedding)     (None, 100, 16)           8000      \n",
            "                                                                 \n",
            " lstm_5 (LSTM)               (None, 100, 8)            800       \n",
            "                                                                 \n",
            " lstm_6 (LSTM)               (None, 8)                 544       \n",
            "                                                                 \n",
            " dense_3 (Dense)             (None, 1)                 9         \n",
            "                                                                 \n",
            "=================================================================\n",
            "Total params: 9,353\n",
            "Trainable params: 9,353\n",
            "Non-trainable params: 0\n",
            "_________________________________________________________________\n"
          ]
        }
      ]
    },
    {
      "cell_type": "code",
      "source": [
        "rmsprop = keras.optimizers.RMSprop(learning_rate=1e-4)\n",
        "model3.compile(optimizer=rmsprop, loss='binary_crossentropy', metrics=['accuracy'])\n",
        "checkpoint_cb = keras.callbacks.ModelCheckpoint('best-2rnn-model.h5', save_best_only=True)\n",
        "early_stopping_cb= keras.callbacks.EarlyStopping(patience=3, restore_best_weights=True)\n",
        "history = model3.fit(train_seq, train_target, epochs=100, batch_size=64, validation_data=(val_seq, val_target), callbacks=[checkpoint_cb, early_stopping_cb])"
      ],
      "metadata": {
        "colab": {
          "base_uri": "https://localhost:8080/"
        },
        "id": "2YDZOxQN0wvX",
        "outputId": "78997b62-896f-4857-f51f-1a95cef5adb6"
      },
      "execution_count": null,
      "outputs": [
        {
          "output_type": "stream",
          "name": "stdout",
          "text": [
            "Epoch 1/100\n",
            "313/313 [==============================] - 11s 23ms/step - loss: 0.6929 - accuracy: 0.5281 - val_loss: 0.6926 - val_accuracy: 0.5878\n",
            "Epoch 2/100\n",
            "313/313 [==============================] - 7s 22ms/step - loss: 0.6914 - accuracy: 0.5664 - val_loss: 0.6893 - val_accuracy: 0.6056\n",
            "Epoch 3/100\n",
            "313/313 [==============================] - 7s 21ms/step - loss: 0.6752 - accuracy: 0.6172 - val_loss: 0.6505 - val_accuracy: 0.6764\n",
            "Epoch 4/100\n",
            "313/313 [==============================] - 6s 21ms/step - loss: 0.6248 - accuracy: 0.6995 - val_loss: 0.6043 - val_accuracy: 0.7182\n",
            "Epoch 5/100\n",
            "313/313 [==============================] - 6s 19ms/step - loss: 0.5891 - accuracy: 0.7222 - val_loss: 0.5747 - val_accuracy: 0.7350\n",
            "Epoch 6/100\n",
            "313/313 [==============================] - 5s 16ms/step - loss: 0.5637 - accuracy: 0.7362 - val_loss: 0.5503 - val_accuracy: 0.7450\n",
            "Epoch 7/100\n",
            "313/313 [==============================] - 5s 16ms/step - loss: 0.5400 - accuracy: 0.7510 - val_loss: 0.5318 - val_accuracy: 0.7528\n",
            "Epoch 8/100\n",
            "313/313 [==============================] - 6s 18ms/step - loss: 0.5213 - accuracy: 0.7592 - val_loss: 0.5103 - val_accuracy: 0.7664\n",
            "Epoch 9/100\n",
            "313/313 [==============================] - 5s 15ms/step - loss: 0.5055 - accuracy: 0.7675 - val_loss: 0.5056 - val_accuracy: 0.7648\n",
            "Epoch 10/100\n",
            "313/313 [==============================] - 4s 13ms/step - loss: 0.4978 - accuracy: 0.7697 - val_loss: 0.4906 - val_accuracy: 0.7738\n",
            "Epoch 11/100\n",
            "313/313 [==============================] - 4s 13ms/step - loss: 0.4864 - accuracy: 0.7778 - val_loss: 0.4805 - val_accuracy: 0.7794\n",
            "Epoch 12/100\n",
            "313/313 [==============================] - 4s 13ms/step - loss: 0.4782 - accuracy: 0.7811 - val_loss: 0.4742 - val_accuracy: 0.7810\n",
            "Epoch 13/100\n",
            "313/313 [==============================] - 4s 13ms/step - loss: 0.4724 - accuracy: 0.7830 - val_loss: 0.4697 - val_accuracy: 0.7830\n",
            "Epoch 14/100\n",
            "313/313 [==============================] - 4s 13ms/step - loss: 0.4689 - accuracy: 0.7839 - val_loss: 0.4709 - val_accuracy: 0.7812\n",
            "Epoch 15/100\n",
            "313/313 [==============================] - 4s 14ms/step - loss: 0.4660 - accuracy: 0.7826 - val_loss: 0.4641 - val_accuracy: 0.7830\n",
            "Epoch 16/100\n",
            "313/313 [==============================] - 4s 13ms/step - loss: 0.4618 - accuracy: 0.7864 - val_loss: 0.4590 - val_accuracy: 0.7872\n",
            "Epoch 17/100\n",
            "313/313 [==============================] - 4s 14ms/step - loss: 0.4572 - accuracy: 0.7901 - val_loss: 0.4566 - val_accuracy: 0.7868\n",
            "Epoch 18/100\n",
            "313/313 [==============================] - 4s 13ms/step - loss: 0.4547 - accuracy: 0.7898 - val_loss: 0.4555 - val_accuracy: 0.7860\n",
            "Epoch 19/100\n",
            "313/313 [==============================] - 4s 13ms/step - loss: 0.4545 - accuracy: 0.7911 - val_loss: 0.4546 - val_accuracy: 0.7888\n",
            "Epoch 20/100\n",
            "313/313 [==============================] - 4s 13ms/step - loss: 0.4467 - accuracy: 0.7951 - val_loss: 0.4524 - val_accuracy: 0.7916\n",
            "Epoch 21/100\n",
            "313/313 [==============================] - 4s 13ms/step - loss: 0.4478 - accuracy: 0.7950 - val_loss: 0.4524 - val_accuracy: 0.7878\n",
            "Epoch 22/100\n",
            "313/313 [==============================] - 4s 14ms/step - loss: 0.4461 - accuracy: 0.7962 - val_loss: 0.4505 - val_accuracy: 0.7898\n",
            "Epoch 23/100\n",
            "313/313 [==============================] - 5s 16ms/step - loss: 0.4435 - accuracy: 0.7979 - val_loss: 0.4490 - val_accuracy: 0.7910\n",
            "Epoch 24/100\n",
            "313/313 [==============================] - 6s 20ms/step - loss: 0.4407 - accuracy: 0.7980 - val_loss: 0.4490 - val_accuracy: 0.7910\n",
            "Epoch 25/100\n",
            "313/313 [==============================] - 5s 16ms/step - loss: 0.4419 - accuracy: 0.7976 - val_loss: 0.4486 - val_accuracy: 0.7916\n",
            "Epoch 26/100\n",
            "313/313 [==============================] - 7s 22ms/step - loss: 0.4399 - accuracy: 0.7985 - val_loss: 0.4474 - val_accuracy: 0.7910\n",
            "Epoch 27/100\n",
            "313/313 [==============================] - 6s 18ms/step - loss: 0.4406 - accuracy: 0.7990 - val_loss: 0.4480 - val_accuracy: 0.7904\n",
            "Epoch 28/100\n",
            "313/313 [==============================] - 5s 15ms/step - loss: 0.4386 - accuracy: 0.7986 - val_loss: 0.4476 - val_accuracy: 0.7916\n",
            "Epoch 29/100\n",
            "313/313 [==============================] - 6s 19ms/step - loss: 0.4377 - accuracy: 0.7988 - val_loss: 0.4454 - val_accuracy: 0.7932\n",
            "Epoch 30/100\n",
            "313/313 [==============================] - 4s 14ms/step - loss: 0.4351 - accuracy: 0.7998 - val_loss: 0.4453 - val_accuracy: 0.7938\n",
            "Epoch 31/100\n",
            "313/313 [==============================] - 4s 13ms/step - loss: 0.4363 - accuracy: 0.8006 - val_loss: 0.4488 - val_accuracy: 0.7916\n",
            "Epoch 32/100\n",
            "313/313 [==============================] - 4s 13ms/step - loss: 0.4356 - accuracy: 0.8017 - val_loss: 0.4448 - val_accuracy: 0.7916\n",
            "Epoch 33/100\n",
            "313/313 [==============================] - 4s 13ms/step - loss: 0.4336 - accuracy: 0.8041 - val_loss: 0.4458 - val_accuracy: 0.7900\n",
            "Epoch 34/100\n",
            "313/313 [==============================] - 4s 14ms/step - loss: 0.4344 - accuracy: 0.8015 - val_loss: 0.4445 - val_accuracy: 0.7930\n",
            "Epoch 35/100\n",
            "313/313 [==============================] - 4s 13ms/step - loss: 0.4326 - accuracy: 0.8044 - val_loss: 0.4433 - val_accuracy: 0.7954\n",
            "Epoch 36/100\n",
            "313/313 [==============================] - 4s 14ms/step - loss: 0.4318 - accuracy: 0.8001 - val_loss: 0.4444 - val_accuracy: 0.7880\n",
            "Epoch 37/100\n",
            "313/313 [==============================] - 4s 14ms/step - loss: 0.4333 - accuracy: 0.8031 - val_loss: 0.4418 - val_accuracy: 0.7918\n",
            "Epoch 38/100\n",
            "313/313 [==============================] - 4s 13ms/step - loss: 0.4288 - accuracy: 0.8038 - val_loss: 0.4424 - val_accuracy: 0.7972\n",
            "Epoch 39/100\n",
            "313/313 [==============================] - 4s 14ms/step - loss: 0.4309 - accuracy: 0.8028 - val_loss: 0.4427 - val_accuracy: 0.7902\n",
            "Epoch 40/100\n",
            "313/313 [==============================] - 4s 14ms/step - loss: 0.4300 - accuracy: 0.8034 - val_loss: 0.4423 - val_accuracy: 0.7900\n"
          ]
        }
      ]
    },
    {
      "cell_type": "code",
      "source": [
        "plt.plot(history.history['loss'])\n",
        "plt.plot(history.history['val_loss'])\n",
        "plt.xlabel('epoch')\n",
        "plt.ylabel('loss')\n",
        "plt.legend(['train', 'val'])\n",
        "plt.show()"
      ],
      "metadata": {
        "colab": {
          "base_uri": "https://localhost:8080/",
          "height": 279
        },
        "id": "q8nLqLpH1vsm",
        "outputId": "3666a0a7-ecf4-41ef-ff18-7ad0b64c6d25"
      },
      "execution_count": null,
      "outputs": [
        {
          "output_type": "display_data",
          "data": {
            "text/plain": [
              "<Figure size 432x288 with 1 Axes>"
            ],
            "image/png": "[encoded data removed]"
          },
          "metadata": {
            "needs_background": "light"
          }
        }
      ]
    },
    {
      "cell_type": "markdown",
      "source": [
        "## GRU 구조  \n",
        "### Gated Recurrent Unit은 LSTM의 간소화 버전."
      ],
      "metadata": {
        "id": "WYCxHGsp2LgN"
      }
    },
    {
      "cell_type": "code",
      "source": [
        "from tensorflow import keras\n",
        "model4 =keras.Sequential()\n",
        "model4.add(keras.layers.Embedding(500, 16, input_length=100))\n",
        "model4.add(keras.layers.GRU(8))\n",
        "model4.add(keras.layers.Dense(1, activation='sigmoid'))"
      ],
      "metadata": {
        "id": "t06vkX33181c"
      },
      "execution_count": null,
      "outputs": []
    },
    {
      "cell_type": "code",
      "source": [
        "model4.summary()"
      ],
      "metadata": {
        "colab": {
          "base_uri": "https://localhost:8080/"
        },
        "id": "ql9xLpXpDISG",
        "outputId": "f5cf0934-5857-44fc-e474-6b1f39c5d4e8"
      },
      "execution_count": null,
      "outputs": [
        {
          "output_type": "stream",
          "name": "stdout",
          "text": [
            "Model: \"sequential\"\n",
            "_________________________________________________________________\n",
            " Layer (type)                Output Shape              Param #   \n",
            "=================================================================\n",
            " embedding (Embedding)       (None, 100, 16)           8000      \n",
            "                                                                 \n",
            " gru (GRU)                   (None, 8)                 624       \n",
            "                                                                 \n",
            " dense (Dense)               (None, 1)                 9         \n",
            "                                                                 \n",
            "=================================================================\n",
            "Total params: 8,633\n",
            "Trainable params: 8,633\n",
            "Non-trainable params: 0\n",
            "_________________________________________________________________\n"
          ]
        }
      ]
    },
    {
      "cell_type": "markdown",
      "source": [
        "gru층에서 600개(16*8 + 8*8 + 8) + 가중치 외 절편 3개 * 8 -> 624\n"
      ],
      "metadata": {
        "id": "yuRHzJCAD_dq"
      }
    },
    {
      "cell_type": "code",
      "source": [
        "rmsprop = keras.optimizers.RMSprop(learning_rate=1e-4)\n",
        "model4.compile(optimizer=rmsprop, loss='binary_crossentropy', metrics=['accuracy'])\n",
        "checkpoint_cb = keras.callbacks.ModelCheckpoint('best-gru-model.h5', save_best_only=True)\n",
        "early_stopping_cb=keras.callbacks.EarlyStopping(patience=3, restore_best_weights=True)\n",
        "history = model4.fit(train_seq, train_target, epochs=100, batch_size=64, validation_data=[val_seq, val_target], callbacks=[checkpoint_cb, early_stopping_cb])"
      ],
      "metadata": {
        "colab": {
          "base_uri": "https://localhost:8080/"
        },
        "id": "T12aTiy8DJSN",
        "outputId": "d4105771-0a88-4c24-a89f-b0f59f22fb7a"
      },
      "execution_count": null,
      "outputs": [
        {
          "output_type": "stream",
          "name": "stdout",
          "text": [
            "Epoch 1/100\n",
            "313/313 [==============================] - 4s 9ms/step - loss: 0.6905 - accuracy: 0.5753 - val_loss: 0.6897 - val_accuracy: 0.5742\n",
            "Epoch 2/100\n",
            "313/313 [==============================] - 2s 8ms/step - loss: 0.6871 - accuracy: 0.5993 - val_loss: 0.6858 - val_accuracy: 0.5806\n",
            "Epoch 3/100\n",
            "313/313 [==============================] - 2s 8ms/step - loss: 0.6816 - accuracy: 0.6154 - val_loss: 0.6794 - val_accuracy: 0.6026\n",
            "Epoch 4/100\n",
            "313/313 [==============================] - 2s 8ms/step - loss: 0.6726 - accuracy: 0.6298 - val_loss: 0.6694 - val_accuracy: 0.6158\n",
            "Epoch 5/100\n",
            "313/313 [==============================] - 3s 8ms/step - loss: 0.6595 - accuracy: 0.6437 - val_loss: 0.6546 - val_accuracy: 0.6354\n",
            "Epoch 6/100\n",
            "313/313 [==============================] - 3s 8ms/step - loss: 0.6398 - accuracy: 0.6612 - val_loss: 0.6324 - val_accuracy: 0.6550\n",
            "Epoch 7/100\n",
            "313/313 [==============================] - 3s 8ms/step - loss: 0.6089 - accuracy: 0.6833 - val_loss: 0.5962 - val_accuracy: 0.6946\n",
            "Epoch 8/100\n",
            "313/313 [==============================] - 2s 8ms/step - loss: 0.5553 - accuracy: 0.7229 - val_loss: 0.5317 - val_accuracy: 0.7398\n",
            "Epoch 9/100\n",
            "313/313 [==============================] - 3s 8ms/step - loss: 0.5063 - accuracy: 0.7559 - val_loss: 0.5141 - val_accuracy: 0.7564\n",
            "Epoch 10/100\n",
            "313/313 [==============================] - 4s 12ms/step - loss: 0.4891 - accuracy: 0.7673 - val_loss: 0.4927 - val_accuracy: 0.7670\n",
            "Epoch 11/100\n",
            "313/313 [==============================] - 3s 11ms/step - loss: 0.4764 - accuracy: 0.7766 - val_loss: 0.4820 - val_accuracy: 0.7736\n",
            "Epoch 12/100\n",
            "313/313 [==============================] - 4s 12ms/step - loss: 0.4667 - accuracy: 0.7825 - val_loss: 0.4755 - val_accuracy: 0.7778\n",
            "Epoch 13/100\n",
            "313/313 [==============================] - 4s 12ms/step - loss: 0.4592 - accuracy: 0.7896 - val_loss: 0.4703 - val_accuracy: 0.7804\n",
            "Epoch 14/100\n",
            "313/313 [==============================] - 4s 11ms/step - loss: 0.4527 - accuracy: 0.7939 - val_loss: 0.4676 - val_accuracy: 0.7816\n",
            "Epoch 15/100\n",
            "313/313 [==============================] - 4s 11ms/step - loss: 0.4477 - accuracy: 0.7968 - val_loss: 0.4624 - val_accuracy: 0.7866\n",
            "Epoch 16/100\n",
            "313/313 [==============================] - 3s 10ms/step - loss: 0.4435 - accuracy: 0.7987 - val_loss: 0.4598 - val_accuracy: 0.7888\n",
            "Epoch 17/100\n",
            "313/313 [==============================] - 4s 12ms/step - loss: 0.4403 - accuracy: 0.8004 - val_loss: 0.4572 - val_accuracy: 0.7902\n",
            "Epoch 18/100\n",
            "313/313 [==============================] - 3s 9ms/step - loss: 0.4365 - accuracy: 0.8037 - val_loss: 0.4640 - val_accuracy: 0.7806\n",
            "Epoch 19/100\n",
            "313/313 [==============================] - 3s 10ms/step - loss: 0.4345 - accuracy: 0.8052 - val_loss: 0.4548 - val_accuracy: 0.7914\n",
            "Epoch 20/100\n",
            "313/313 [==============================] - 3s 9ms/step - loss: 0.4324 - accuracy: 0.8062 - val_loss: 0.4582 - val_accuracy: 0.7834\n",
            "Epoch 21/100\n",
            "313/313 [==============================] - 2s 8ms/step - loss: 0.4303 - accuracy: 0.8086 - val_loss: 0.4520 - val_accuracy: 0.7920\n",
            "Epoch 22/100\n",
            "313/313 [==============================] - 3s 8ms/step - loss: 0.4286 - accuracy: 0.8101 - val_loss: 0.4520 - val_accuracy: 0.7916\n",
            "Epoch 23/100\n",
            "313/313 [==============================] - 2s 8ms/step - loss: 0.4272 - accuracy: 0.8112 - val_loss: 0.4523 - val_accuracy: 0.7900\n",
            "Epoch 24/100\n",
            "313/313 [==============================] - 2s 8ms/step - loss: 0.4259 - accuracy: 0.8099 - val_loss: 0.4496 - val_accuracy: 0.7924\n",
            "Epoch 25/100\n",
            "313/313 [==============================] - 2s 8ms/step - loss: 0.4249 - accuracy: 0.8101 - val_loss: 0.4493 - val_accuracy: 0.7916\n",
            "Epoch 26/100\n",
            "313/313 [==============================] - 2s 8ms/step - loss: 0.4234 - accuracy: 0.8132 - val_loss: 0.4513 - val_accuracy: 0.7896\n",
            "Epoch 27/100\n",
            "313/313 [==============================] - 2s 8ms/step - loss: 0.4227 - accuracy: 0.8141 - val_loss: 0.4480 - val_accuracy: 0.7904\n",
            "Epoch 28/100\n",
            "313/313 [==============================] - 2s 8ms/step - loss: 0.4222 - accuracy: 0.8134 - val_loss: 0.4482 - val_accuracy: 0.7908\n",
            "Epoch 29/100\n",
            "313/313 [==============================] - 2s 8ms/step - loss: 0.4212 - accuracy: 0.8144 - val_loss: 0.4468 - val_accuracy: 0.7896\n",
            "Epoch 30/100\n",
            "313/313 [==============================] - 2s 8ms/step - loss: 0.4204 - accuracy: 0.8134 - val_loss: 0.4473 - val_accuracy: 0.7924\n",
            "Epoch 31/100\n",
            "313/313 [==============================] - 2s 8ms/step - loss: 0.4200 - accuracy: 0.8146 - val_loss: 0.4477 - val_accuracy: 0.7942\n",
            "Epoch 32/100\n",
            "313/313 [==============================] - 2s 8ms/step - loss: 0.4195 - accuracy: 0.8153 - val_loss: 0.4457 - val_accuracy: 0.7926\n",
            "Epoch 33/100\n",
            "313/313 [==============================] - 2s 8ms/step - loss: 0.4184 - accuracy: 0.8152 - val_loss: 0.4458 - val_accuracy: 0.7912\n",
            "Epoch 34/100\n",
            "313/313 [==============================] - 3s 8ms/step - loss: 0.4181 - accuracy: 0.8148 - val_loss: 0.4471 - val_accuracy: 0.7934\n",
            "Epoch 35/100\n",
            "313/313 [==============================] - 2s 8ms/step - loss: 0.4175 - accuracy: 0.8159 - val_loss: 0.4483 - val_accuracy: 0.7922\n"
          ]
        }
      ]
    },
    {
      "cell_type": "code",
      "source": [
        "import matplotlib.pyplot as plt\n",
        "plt.plot(history.history['loss'])\n",
        "plt.plot(history.history['val_loss'])\n",
        "plt.xlabel('epoch')\n",
        "plt.xlabel('loss')\n",
        "plt.legend(['train', 'val'])\n",
        "plt.show()"
      ],
      "metadata": {
        "colab": {
          "base_uri": "https://localhost:8080/",
          "height": 280
        },
        "id": "kf8MGLS3FCgP",
        "outputId": "92b398dc-21dd-4263-e70b-dc81dc467763"
      },
      "execution_count": null,
      "outputs": [
        {
          "output_type": "display_data",
          "data": {
            "text/plain": [
              "<Figure size 432x288 with 1 Axes>"
            ],
            "image/png": "[encoded data removed]"
          },
          "metadata": {
            "needs_background": "light"
          }
        }
      ]
    },
    {
      "cell_type": "code",
      "source": [
        "test_seq = pad_sequences(test_input, maxlen=100)\n",
        "rnn_model = keras.models.load_model('best-gru-model.h5')\n",
        "rnn_model.evaluate(test_seq, test_target)"
      ],
      "metadata": {
        "colab": {
          "base_uri": "https://localhost:8080/"
        },
        "id": "S5JNyqdwGgM8",
        "outputId": "796547aa-ca7a-449d-a5da-86fc87885b7a"
      },
      "execution_count": null,
      "outputs": [
        {
          "output_type": "stream",
          "name": "stdout",
          "text": [
            "782/782 [==============================] - 3s 4ms/step - loss: 0.4407 - accuracy: 0.7954\n"
          ]
        },
        {
          "output_type": "execute_result",
          "data": {
            "text/plain": [
              "[0.44072800874710083, 0.7953600287437439]"
            ]
          },
          "metadata": {},
          "execution_count": 21
        }
      ]
    },
    {
      "cell_type": "markdown",
      "source": [
        "best-2rnn모델이 젤 손실도 작고 정확도도 준수함"
      ],
      "metadata": {
        "id": "OZzki4_yHqDd"
      }
    },
    {
      "cell_type": "code",
      "source": [
        "import pandas as pd\n",
        "import numpy as np\n",
        "import matplotlib.pyplot as plt\n",
        "from datetime import datetime\n",
        "\n",
        "df = pd.read_csv(\"eletrain.csv\")\n",
        "df['date_time'] = pd.to_datetime(df['date_time'])\n",
        "df = df.set_index('date_time')"
      ],
      "metadata": {
        "id": "Pynq7uV3HoyD"
      },
      "execution_count": 1,
      "outputs": []
    },
    {
      "cell_type": "code",
      "source": [
        "df_train_y = df['전력사용량(kWh)']\n",
        "df_train_x = df.drop('전력사용량(kWh)', axis=1)\n",
        "\n",
        "df_test = pd.read_csv('test.csv')\n",
        "df_test=df_test.set_index('date_time')"
      ],
      "metadata": {
        "id": "jIcIJ2i1jWAE"
      },
      "execution_count": 2,
      "outputs": []
    },
    {
      "cell_type": "code",
      "source": [
        "df_test['강수량(mm, 6시간)'].fillna(np.mean(df_test['강수량(mm, 6시간)']), inplace=True)\n",
        "df_test['기온(°C)'].fillna(np.mean(df_test['기온(°C)']), inplace=True)\n",
        "df_test['풍속(m/s)'].fillna(np.mean(df_test['풍속(m/s)']), inplace=True)\n",
        "df_test['습도(%)'].fillna(np.mean(df_test['습도(%)']), inplace=True)\n",
        "df_test['일조(hr, 3시간)'].fillna(np.mean(df_test['일조(hr, 3시간)']), inplace=True)\n",
        "df_test.info()"
      ],
      "metadata": {
        "colab": {
          "base_uri": "https://localhost:8080/"
        },
        "id": "PVXyA1YajYYq",
        "outputId": "7a9682b8-4851-4f02-d5cb-c668bdd9cf14"
      },
      "execution_count": 3,
      "outputs": [
        {
          "output_type": "stream",
          "name": "stdout",
          "text": [
            "<class 'pandas.core.frame.DataFrame'>\n",
            "Index: 10080 entries, 2020-08-25 00 to 2020-08-31 23\n",
            "Data columns (total 8 columns):\n",
            " #   Column        Non-Null Count  Dtype  \n",
            "---  ------        --------------  -----  \n",
            " 0   num           10080 non-null  int64  \n",
            " 1   기온(°C)        10080 non-null  float64\n",
            " 2   풍속(m/s)       10080 non-null  float64\n",
            " 3   습도(%)         10080 non-null  float64\n",
            " 4   강수량(mm, 6시간)  10080 non-null  float64\n",
            " 5   일조(hr, 3시간)   10080 non-null  float64\n",
            " 6   비전기냉방설비운영     10080 non-null  int64  \n",
            " 7   태양광보유         10080 non-null  int64  \n",
            "dtypes: float64(5), int64(3)\n",
            "memory usage: 708.8+ KB\n"
          ]
        }
      ]
    },
    {
      "cell_type": "code",
      "source": [
        "train_x = np.array(df_train_x).reshape(df_train_x.shape[0], df_train_x.shape[1],1)"
      ],
      "metadata": {
        "id": "JqR0h1r0jZZ-"
      },
      "execution_count": 4,
      "outputs": []
    },
    {
      "cell_type": "code",
      "source": [
        "import keras\n",
        "from keras.layers import Dense\n",
        "from keras.models import Sequential\n",
        "from keras.utils import to_categorical\n",
        "from keras.optimizers import SGD, Adadelta, Adam, RMSprop\n",
        "from keras.callbacks import EarlyStopping\n",
        "import itertools\n",
        "from keras.layers import LSTM\n",
        "from keras.layers.convolutional import Conv1D\n",
        "from keras.layers.convolutional import MaxPooling1D\n",
        "from keras.layers import Dropout\n",
        "\n",
        "model = keras.Sequential()\n",
        "model.add(keras.layers.LSTM(units=128, input_shape = (train_x.shape[1], train_x.shape[2])))\n",
        "model.add(keras.layers.Dropout(rate=0.2))\n",
        "model.add(keras.layers.Dense(units=1))\n",
        "model.compile(loss='mean_squared_error', optimizer='adam')\n",
        "\n",
        "history = model.fit(train_x, df_train_y, validation_split=0.1, batch_size=10, epochs=100)\n",
        "pd.DataFrame.from_dict(history.history).plot()"
      ],
      "metadata": {
        "colab": {
          "base_uri": "https://localhost:8080/",
          "height": 1000
        },
        "id": "sAoCOoVcjakX",
        "outputId": "b189259e-4c8c-42a5-9152-801d05c59dc3"
      },
      "execution_count": 5,
      "outputs": [
        {
          "output_type": "stream",
          "name": "stdout",
          "text": [
            "Epoch 1/100\n",
            "2051/2051 [==============================] - 15s 4ms/step - loss: 18909038.0000 - val_loss: nan\n",
            "Epoch 2/100\n",
            "2051/2051 [==============================] - 8s 4ms/step - loss: 17559962.0000 - val_loss: nan\n",
            "Epoch 3/100\n",
            "2051/2051 [==============================] - 8s 4ms/step - loss: 16357965.0000 - val_loss: nan\n",
            "Epoch 4/100\n",
            "2051/2051 [==============================] - 10s 5ms/step - loss: 15278737.0000 - val_loss: nan\n",
            "Epoch 5/100\n",
            "2051/2051 [==============================] - 9s 4ms/step - loss: 14327102.0000 - val_loss: nan\n",
            "Epoch 6/100\n",
            "2051/2051 [==============================] - 8s 4ms/step - loss: 13494397.0000 - val_loss: nan\n",
            "Epoch 7/100\n",
            "2051/2051 [==============================] - 8s 4ms/step - loss: 12780300.0000 - val_loss: nan\n",
            "Epoch 8/100\n",
            "2051/2051 [==============================] - 9s 4ms/step - loss: 12176893.0000 - val_loss: nan\n",
            "Epoch 9/100\n",
            "2051/2051 [==============================] - 8s 4ms/step - loss: 11676806.0000 - val_loss: nan\n",
            "Epoch 10/100\n",
            "2051/2051 [==============================] - 8s 4ms/step - loss: 11280682.0000 - val_loss: nan\n",
            "Epoch 11/100\n",
            "2051/2051 [==============================] - 8s 4ms/step - loss: 10976194.0000 - val_loss: nan\n",
            "Epoch 12/100\n",
            "2051/2051 [==============================] - 8s 4ms/step - loss: 10754915.0000 - val_loss: nan\n",
            "Epoch 13/100\n",
            "2051/2051 [==============================] - 8s 4ms/step - loss: 10585202.0000 - val_loss: nan\n",
            "Epoch 14/100\n",
            "2051/2051 [==============================] - 8s 4ms/step - loss: 10454123.0000 - val_loss: nan\n",
            "Epoch 15/100\n",
            "2051/2051 [==============================] - 8s 4ms/step - loss: 10402511.0000 - val_loss: nan\n",
            "Epoch 16/100\n",
            "2051/2051 [==============================] - 8s 4ms/step - loss: 10330817.0000 - val_loss: nan\n",
            "Epoch 17/100\n",
            "2051/2051 [==============================] - 8s 4ms/step - loss: 10300168.0000 - val_loss: nan\n",
            "Epoch 18/100\n",
            "2051/2051 [==============================] - 8s 4ms/step - loss: 10275136.0000 - val_loss: nan\n",
            "Epoch 19/100\n",
            "2051/2051 [==============================] - 8s 4ms/step - loss: 10256941.0000 - val_loss: nan\n",
            "Epoch 20/100\n",
            "2051/2051 [==============================] - 8s 4ms/step - loss: 10238583.0000 - val_loss: nan\n",
            "Epoch 21/100\n",
            "2051/2051 [==============================] - 8s 4ms/step - loss: 10243983.0000 - val_loss: nan\n",
            "Epoch 22/100\n",
            "2051/2051 [==============================] - 8s 4ms/step - loss: 10243780.0000 - val_loss: nan\n",
            "Epoch 23/100\n",
            "2051/2051 [==============================] - 8s 4ms/step - loss: 10234823.0000 - val_loss: nan\n",
            "Epoch 24/100\n",
            "2051/2051 [==============================] - 8s 4ms/step - loss: 10233422.0000 - val_loss: nan\n",
            "Epoch 25/100\n",
            "2051/2051 [==============================] - 8s 4ms/step - loss: 10218093.0000 - val_loss: nan\n",
            "Epoch 26/100\n",
            "2051/2051 [==============================] - 8s 4ms/step - loss: 10226930.0000 - val_loss: nan\n",
            "Epoch 27/100\n",
            "2051/2051 [==============================] - 8s 4ms/step - loss: 10240934.0000 - val_loss: nan\n",
            "Epoch 28/100\n",
            "2051/2051 [==============================] - 8s 4ms/step - loss: 10228544.0000 - val_loss: nan\n",
            "Epoch 29/100\n",
            "2051/2051 [==============================] - 8s 4ms/step - loss: 10240798.0000 - val_loss: nan\n",
            "Epoch 30/100\n",
            "2051/2051 [==============================] - 8s 4ms/step - loss: 10228252.0000 - val_loss: nan\n",
            "Epoch 31/100\n",
            "2051/2051 [==============================] - 8s 4ms/step - loss: 10231792.0000 - val_loss: nan\n",
            "Epoch 32/100\n",
            "2051/2051 [==============================] - 8s 4ms/step - loss: 10232608.0000 - val_loss: nan\n",
            "Epoch 33/100\n",
            "2051/2051 [==============================] - 8s 4ms/step - loss: 10230631.0000 - val_loss: nan\n",
            "Epoch 34/100\n",
            "2051/2051 [==============================] - 8s 4ms/step - loss: 10227997.0000 - val_loss: nan\n",
            "Epoch 35/100\n",
            "2051/2051 [==============================] - 8s 4ms/step - loss: 10249551.0000 - val_loss: nan\n",
            "Epoch 36/100\n",
            "2051/2051 [==============================] - 8s 4ms/step - loss: 10236862.0000 - val_loss: nan\n",
            "Epoch 37/100\n",
            "2051/2051 [==============================] - 8s 4ms/step - loss: 10236324.0000 - val_loss: nan\n",
            "Epoch 38/100\n",
            "2051/2051 [==============================] - 8s 4ms/step - loss: 10227950.0000 - val_loss: nan\n",
            "Epoch 39/100\n",
            "2051/2051 [==============================] - 8s 4ms/step - loss: 10231410.0000 - val_loss: nan\n",
            "Epoch 40/100\n",
            "2051/2051 [==============================] - 8s 4ms/step - loss: 10227979.0000 - val_loss: nan\n",
            "Epoch 41/100\n",
            "2051/2051 [==============================] - 11s 5ms/step - loss: 10245741.0000 - val_loss: nan\n",
            "Epoch 42/100\n",
            "2051/2051 [==============================] - 9s 4ms/step - loss: 10228310.0000 - val_loss: nan\n",
            "Epoch 43/100\n",
            "2051/2051 [==============================] - 8s 4ms/step - loss: 10230893.0000 - val_loss: nan\n",
            "Epoch 44/100\n",
            "2051/2051 [==============================] - 8s 4ms/step - loss: 10230228.0000 - val_loss: nan\n",
            "Epoch 45/100\n",
            "2051/2051 [==============================] - 8s 4ms/step - loss: 10237528.0000 - val_loss: nan\n",
            "Epoch 46/100\n",
            "2051/2051 [==============================] - 8s 4ms/step - loss: 10239395.0000 - val_loss: nan\n",
            "Epoch 47/100\n",
            "2051/2051 [==============================] - 8s 4ms/step - loss: 10225630.0000 - val_loss: nan\n",
            "Epoch 48/100\n",
            "2051/2051 [==============================] - 8s 4ms/step - loss: 10176584.0000 - val_loss: nan\n",
            "Epoch 49/100\n",
            "2051/2051 [==============================] - 8s 4ms/step - loss: 10052346.0000 - val_loss: nan\n",
            "Epoch 50/100\n",
            "2051/2051 [==============================] - 8s 4ms/step - loss: 9970106.0000 - val_loss: nan\n",
            "Epoch 51/100\n",
            "2051/2051 [==============================] - 9s 4ms/step - loss: 9889771.0000 - val_loss: nan\n",
            "Epoch 52/100\n",
            "2051/2051 [==============================] - 8s 4ms/step - loss: 9826557.0000 - val_loss: nan\n",
            "Epoch 53/100\n",
            "2051/2051 [==============================] - 8s 4ms/step - loss: 9779562.0000 - val_loss: nan\n",
            "Epoch 54/100\n",
            "2051/2051 [==============================] - 8s 4ms/step - loss: 9734085.0000 - val_loss: nan\n",
            "Epoch 55/100\n",
            "2051/2051 [==============================] - 8s 4ms/step - loss: 9710505.0000 - val_loss: nan\n",
            "Epoch 56/100\n",
            "2051/2051 [==============================] - 8s 4ms/step - loss: 9684181.0000 - val_loss: nan\n",
            "Epoch 57/100\n",
            "2051/2051 [==============================] - 8s 4ms/step - loss: 9663131.0000 - val_loss: nan\n",
            "Epoch 58/100\n",
            "2051/2051 [==============================] - 8s 4ms/step - loss: 9631860.0000 - val_loss: nan\n",
            "Epoch 59/100\n",
            "2051/2051 [==============================] - 8s 4ms/step - loss: 9623829.0000 - val_loss: nan\n",
            "Epoch 60/100\n",
            "2051/2051 [==============================] - 8s 4ms/step - loss: 9589843.0000 - val_loss: nan\n",
            "Epoch 61/100\n",
            "2051/2051 [==============================] - 8s 4ms/step - loss: 9579351.0000 - val_loss: nan\n",
            "Epoch 62/100\n",
            "2051/2051 [==============================] - 8s 4ms/step - loss: 9549110.0000 - val_loss: nan\n",
            "Epoch 63/100\n",
            "2051/2051 [==============================] - 8s 4ms/step - loss: 9409042.0000 - val_loss: nan\n",
            "Epoch 64/100\n",
            "2051/2051 [==============================] - 8s 4ms/step - loss: 8311450.5000 - val_loss: nan\n",
            "Epoch 65/100\n",
            "2051/2051 [==============================] - 8s 4ms/step - loss: 7961251.0000 - val_loss: nan\n",
            "Epoch 66/100\n",
            "2051/2051 [==============================] - 8s 4ms/step - loss: 7716386.0000 - val_loss: nan\n",
            "Epoch 67/100\n",
            "2051/2051 [==============================] - 8s 4ms/step - loss: 7442878.0000 - val_loss: nan\n",
            "Epoch 68/100\n",
            "2051/2051 [==============================] - 8s 4ms/step - loss: 7032597.5000 - val_loss: nan\n",
            "Epoch 69/100\n",
            "2051/2051 [==============================] - 8s 4ms/step - loss: 6402523.0000 - val_loss: nan\n",
            "Epoch 70/100\n",
            "2051/2051 [==============================] - 8s 4ms/step - loss: 5889894.0000 - val_loss: nan\n",
            "Epoch 71/100\n",
            "2051/2051 [==============================] - 8s 4ms/step - loss: 5467224.5000 - val_loss: nan\n",
            "Epoch 72/100\n",
            "2051/2051 [==============================] - 8s 4ms/step - loss: 5132260.0000 - val_loss: nan\n",
            "Epoch 73/100\n",
            "2051/2051 [==============================] - 8s 4ms/step - loss: 4800418.5000 - val_loss: nan\n",
            "Epoch 74/100\n",
            "2051/2051 [==============================] - 8s 4ms/step - loss: 4502232.5000 - val_loss: nan\n",
            "Epoch 75/100\n",
            "2051/2051 [==============================] - 8s 4ms/step - loss: 4253783.0000 - val_loss: nan\n",
            "Epoch 76/100\n",
            "2051/2051 [==============================] - 8s 4ms/step - loss: 3995410.5000 - val_loss: nan\n",
            "Epoch 77/100\n",
            "2051/2051 [==============================] - 9s 4ms/step - loss: 3790995.2500 - val_loss: nan\n",
            "Epoch 78/100\n",
            "2051/2051 [==============================] - 8s 4ms/step - loss: 3563610.7500 - val_loss: nan\n",
            "Epoch 79/100\n",
            "2051/2051 [==============================] - 8s 4ms/step - loss: 3402237.2500 - val_loss: nan\n",
            "Epoch 80/100\n",
            "2051/2051 [==============================] - 8s 4ms/step - loss: 3203050.2500 - val_loss: nan\n",
            "Epoch 81/100\n",
            "2051/2051 [==============================] - 8s 4ms/step - loss: 3025394.7500 - val_loss: nan\n",
            "Epoch 82/100\n",
            "2051/2051 [==============================] - 8s 4ms/step - loss: 2889109.5000 - val_loss: nan\n",
            "Epoch 83/100\n",
            "2051/2051 [==============================] - 8s 4ms/step - loss: 2751488.0000 - val_loss: nan\n",
            "Epoch 84/100\n",
            "2051/2051 [==============================] - 8s 4ms/step - loss: 2646189.2500 - val_loss: nan\n",
            "Epoch 85/100\n",
            "2051/2051 [==============================] - 8s 4ms/step - loss: 2516769.7500 - val_loss: nan\n",
            "Epoch 86/100\n",
            "2051/2051 [==============================] - 8s 4ms/step - loss: 2454811.5000 - val_loss: nan\n",
            "Epoch 87/100\n",
            "2051/2051 [==============================] - 8s 4ms/step - loss: 2339128.7500 - val_loss: nan\n",
            "Epoch 88/100\n",
            "2051/2051 [==============================] - 8s 4ms/step - loss: 2274030.5000 - val_loss: nan\n",
            "Epoch 89/100\n",
            "2051/2051 [==============================] - 8s 4ms/step - loss: 2231450.5000 - val_loss: nan\n",
            "Epoch 90/100\n",
            "2051/2051 [==============================] - 8s 4ms/step - loss: 2146233.7500 - val_loss: nan\n",
            "Epoch 91/100\n",
            "2051/2051 [==============================] - 8s 4ms/step - loss: 2096016.6250 - val_loss: nan\n",
            "Epoch 92/100\n",
            "2051/2051 [==============================] - 8s 4ms/step - loss: 2047153.3750 - val_loss: nan\n",
            "Epoch 93/100\n",
            "2051/2051 [==============================] - 8s 4ms/step - loss: 1997629.6250 - val_loss: nan\n",
            "Epoch 94/100\n",
            "2051/2051 [==============================] - 8s 4ms/step - loss: 1973704.2500 - val_loss: nan\n",
            "Epoch 95/100\n",
            "2051/2051 [==============================] - 8s 4ms/step - loss: 1951217.1250 - val_loss: nan\n",
            "Epoch 96/100\n",
            "2051/2051 [==============================] - 8s 4ms/step - loss: 1906770.6250 - val_loss: nan\n",
            "Epoch 97/100\n",
            "2051/2051 [==============================] - 8s 4ms/step - loss: 1906386.5000 - val_loss: nan\n",
            "Epoch 98/100\n",
            "2051/2051 [==============================] - 8s 4ms/step - loss: 1879605.1250 - val_loss: nan\n",
            "Epoch 99/100\n",
            "2051/2051 [==============================] - 8s 4ms/step - loss: 1841655.1250 - val_loss: nan\n",
            "Epoch 100/100\n",
            "2051/2051 [==============================] - 8s 4ms/step - loss: 1839400.6250 - val_loss: nan\n"
          ]
        },
        {
          "output_type": "execute_result",
          "data": {
            "text/plain": [
              "<matplotlib.axes._subplots.AxesSubplot at 0x7f95e09cce80>"
            ]
          },
          "metadata": {},
          "execution_count": 5
        },
        {
          "output_type": "display_data",
          "data": {
            "text/plain": [
              "<Figure size 432x288 with 1 Axes>"
            ],
            "image/png": "[encoded data removed]"
          },
          "metadata": {
            "needs_background": "light"
          }
        }
      ]
    },
    {
      "cell_type": "code",
      "source": [
        "result = model.predict(df_test)"
      ],
      "metadata": {
        "colab": {
          "base_uri": "https://localhost:8080/"
        },
        "id": "YIrwIs3omynU",
        "outputId": "50ecf463-b53e-443d-b9eb-09753a896922"
      },
      "execution_count": 7,
      "outputs": [
        {
          "output_type": "stream",
          "name": "stdout",
          "text": [
            "315/315 [==============================] - 1s 2ms/step\n"
          ]
        }
      ]
    },
    {
      "cell_type": "code",
      "source": [
        "submission=pd.read_csv('sample_submission4.csv')"
      ],
      "metadata": {
        "id": "jJS8lFIZm2av"
      },
      "execution_count": 15,
      "outputs": []
    },
    {
      "cell_type": "code",
      "source": [
        "submission['answer'] = result.reshape([-1,1])\n",
        "submission"
      ],
      "metadata": {
        "colab": {
          "base_uri": "https://localhost:8080/",
          "height": 424
        },
        "id": "d4wddWmToKoI",
        "outputId": "142a1154-e786-4916-9517-89031d23eb01"
      },
      "execution_count": 16,
      "outputs": [
        {
          "output_type": "execute_result",
          "data": {
            "text/plain": [
              "          num_date_time       answer\n",
              "0       1 2020-08-25 00  8496.607422\n",
              "1       1 2020-08-25 01  8496.467773\n",
              "2       1 2020-08-25 02  8496.467773\n",
              "3       1 2020-08-25 03  8444.601562\n",
              "4       1 2020-08-25 04  8496.467773\n",
              "...                 ...          ...\n",
              "10075  60 2020-08-31 19  8309.539062\n",
              "10076  60 2020-08-31 20  8309.539062\n",
              "10077  60 2020-08-31 21  8175.521484\n",
              "10078  60 2020-08-31 22  8309.539062\n",
              "10079  60 2020-08-31 23  8309.539062\n",
              "\n",
              "[10080 rows x 2 columns]"
            ],
            "text/html": [
              "\n",
              "  <div id=\"df-da290e10-9718-4612-b973-fb40b137aa8e\">\n",
              "    <div class=\"colab-df-container\">\n",
              "      <div>\n",
              "<style scoped>\n",
              "    .dataframe tbody tr th:only-of-type {\n",
              "        vertical-align: middle;\n",
              "    }\n",
              "\n",
              "    .dataframe tbody tr th {\n",
              "        vertical-align: top;\n",
              "    }\n",
              "\n",
              "    .dataframe thead th {\n",
              "        text-align: right;\n",
              "    }\n",
              "</style>\n",
              "<table border=\"1\" class=\"dataframe\">\n",
              "  <thead>\n",
              "    <tr style=\"text-align: right;\">\n",
              "      <th></th>\n",
              "      <th>num_date_time</th>\n",
              "      <th>answer</th>\n",
              "    </tr>\n",
              "  </thead>\n",
              "  <tbody>\n",
              "    <tr>\n",
              "      <th>0</th>\n",
              "      <td>1 2020-08-25 00</td>\n",
              "      <td>8496.607422</td>\n",
              "    </tr>\n",
              "    <tr>\n",
              "      <th>1</th>\n",
              "      <td>1 2020-08-25 01</td>\n",
              "      <td>8496.467773</td>\n",
              "    </tr>\n",
              "    <tr>\n",
              "      <th>2</th>\n",
              "      <td>1 2020-08-25 02</td>\n",
              "      <td>8496.467773</td>\n",
              "    </tr>\n",
              "    <tr>\n",
              "      <th>3</th>\n",
              "      <td>1 2020-08-25 03</td>\n",
              "      <td>8444.601562</td>\n",
              "    </tr>\n",
              "    <tr>\n",
              "      <th>4</th>\n",
              "      <td>1 2020-08-25 04</td>\n",
              "      <td>8496.467773</td>\n",
              "    </tr>\n",
              "    <tr>\n",
              "      <th>...</th>\n",
              "      <td>...</td>\n",
              "      <td>...</td>\n",
              "    </tr>\n",
              "    <tr>\n",
              "      <th>10075</th>\n",
              "      <td>60 2020-08-31 19</td>\n",
              "      <td>8309.539062</td>\n",
              "    </tr>\n",
              "    <tr>\n",
              "      <th>10076</th>\n",
              "      <td>60 2020-08-31 20</td>\n",
              "      <td>8309.539062</td>\n",
              "    </tr>\n",
              "    <tr>\n",
              "      <th>10077</th>\n",
              "      <td>60 2020-08-31 21</td>\n",
              "      <td>8175.521484</td>\n",
              "    </tr>\n",
              "    <tr>\n",
              "      <th>10078</th>\n",
              "      <td>60 2020-08-31 22</td>\n",
              "      <td>8309.539062</td>\n",
              "    </tr>\n",
              "    <tr>\n",
              "      <th>10079</th>\n",
              "      <td>60 2020-08-31 23</td>\n",
              "      <td>8309.539062</td>\n",
              "    </tr>\n",
              "  </tbody>\n",
              "</table>\n",
              "<p>10080 rows × 2 columns</p>\n",
              "</div>\n",
              "      <button class=\"colab-df-convert\" onclick=\"convertToInteractive('df-da290e10-9718-4612-b973-fb40b137aa8e')\"\n",
              "              title=\"Convert this dataframe to an interactive table.\"\n",
              "              style=\"display:none;\">\n",
              "        \n",
              "  <svg xmlns=\"http://www.w3.org/2000/svg\" height=\"24px\"viewBox=\"0 0 24 24\"\n",
              "       width=\"24px\">\n",
              "    <path d=\"M0 0h24v24H0V0z\" fill=\"none\"/>\n",
              "    <path d=\"M18.56 5.44l.94 2.06.94-2.06 2.06-.94-2.06-.94-.94-2.06-.94 2.06-2.06.94zm-11 1L8.5 8.5l.94-2.06 2.06-.94-2.06-.94L8.5 2.5l-.94 2.06-2.06.94zm10 10l.94 2.06.94-2.06 2.06-.94-2.06-.94-.94-2.06-.94 2.06-2.06.94z\"/><path d=\"M17.41 7.96l-1.37-1.37c-.4-.4-.92-.59-1.43-.59-.52 0-1.04.2-1.43.59L10.3 9.45l-7.72 7.72c-.78.78-.78 2.05 0 2.83L4 21.41c.39.39.9.59 1.41.59.51 0 1.02-.2 1.41-.59l7.78-7.78 2.81-2.81c.8-.78.8-2.07 0-2.86zM5.41 20L4 18.59l7.72-7.72 1.47 1.35L5.41 20z\"/>\n",
              "  </svg>\n",
              "      </button>\n",
              "      \n",
              "  <style>\n",
              "    .colab-df-container {\n",
              "      display:flex;\n",
              "      flex-wrap:wrap;\n",
              "      gap: 12px;\n",
              "    }\n",
              "\n",
              "    .colab-df-convert {\n",
              "      background-color: #E8F0FE;\n",
              "      border: none;\n",
              "      border-radius: 50%;\n",
              "      cursor: pointer;\n",
              "      display: none;\n",
              "      fill: #1967D2;\n",
              "      height: 32px;\n",
              "      padding: 0 0 0 0;\n",
              "      width: 32px;\n",
              "    }\n",
              "\n",
              "    .colab-df-convert:hover {\n",
              "      background-color: #E2EBFA;\n",
              "      box-shadow: 0px 1px 2px rgba(60, 64, 67, 0.3), 0px 1px 3px 1px rgba(60, 64, 67, 0.15);\n",
              "      fill: #174EA6;\n",
              "    }\n",
              "\n",
              "    [theme=dark] .colab-df-convert {\n",
              "      background-color: #3B4455;\n",
              "      fill: #D2E3FC;\n",
              "    }\n",
              "\n",
              "    [theme=dark] .colab-df-convert:hover {\n",
              "      background-color: #434B5C;\n",
              "      box-shadow: 0px 1px 3px 1px rgba(0, 0, 0, 0.15);\n",
              "      filter: drop-shadow(0px 1px 2px rgba(0, 0, 0, 0.3));\n",
              "      fill: #FFFFFF;\n",
              "    }\n",
              "  </style>\n",
              "\n",
              "      <script>\n",
              "        const buttonEl =\n",
              "          document.querySelector('#df-da290e10-9718-4612-b973-fb40b137aa8e button.colab-df-convert');\n",
              "        buttonEl.style.display =\n",
              "          google.colab.kernel.accessAllowed ? 'block' : 'none';\n",
              "\n",
              "        async function convertToInteractive(key) {\n",
              "          const element = document.querySelector('#df-da290e10-9718-4612-b973-fb40b137aa8e');\n",
              "          const dataTable =\n",
              "            await google.colab.kernel.invokeFunction('convertToInteractive',\n",
              "                                                     [key], {});\n",
              "          if (!dataTable) return;\n",
              "\n",
              "          const docLinkHtml = 'Like what you see? Visit the ' +\n",
              "            '<a target=\"_blank\" href=https://colab.research.google.com/notebooks/data_table.ipynb>data table notebook</a>'\n",
              "            + ' to learn more about interactive tables.';\n",
              "          element.innerHTML = '';\n",
              "          dataTable['output_type'] = 'display_data';\n",
              "          await google.colab.output.renderOutput(dataTable, element);\n",
              "          const docLink = document.createElement('div');\n",
              "          docLink.innerHTML = docLinkHtml;\n",
              "          element.appendChild(docLink);\n",
              "        }\n",
              "      </script>\n",
              "    </div>\n",
              "  </div>\n",
              "  "
            ]
          },
          "metadata": {},
          "execution_count": 16
        }
      ]
    }
  ]
}